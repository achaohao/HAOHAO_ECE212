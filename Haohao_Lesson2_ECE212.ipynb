{
 "cells": [
  {
   "cell_type": "markdown",
   "metadata": {},
   "source": [
    "# Module 1 Lesson 2"
   ]
  },
  {
   "cell_type": "markdown",
   "metadata": {},
   "source": [
    "## Introduction"
   ]
  },
  {
   "cell_type": "markdown",
   "metadata": {},
   "source": [
    "    I've learned the basic building blocks of phyton proggramming in coursera; from the type of data like list, integer, variable, string, character etc. Then after that, they've introduce to us the operations and how it works, the sequence of computing when your using multiple operations and such. later on, we learned the function calling, the introduction of data in a single coding and using function call to to operate it. \n",
    "    It was all so very informative, like the step by step codings, how the computer reads it, how it function, the differences of the ouput if you combine an integer and a character in a single operation, how the operation works and everything about the most basic building character of the phyton programmming. I actually had a lot of fun doing the exercises and activities in the runestone book and the videos they prepare are really clear and a lot less or not confusing. "
   ]
  },
  {
   "cell_type": "markdown",
   "metadata": {},
   "source": [
    "## Activity "
   ]
  },
  {
   "cell_type": "markdown",
   "metadata": {},
   "source": [
    "### Check your understanding "
   ]
  },
  {
   "cell_type": "markdown",
   "metadata": {},
   "source": [
    "1. An Algorithm is "
   ]
  },
  {
   "cell_type": "markdown",
   "metadata": {},
   "source": [
    "A. A solution to a problem that can be solved by a computer\n",
    "\n",
    "B. A step by step sequence of instructions that if followed exactly will solve the problem under consideration.\n",
    "\n",
    "C. A series of instructions implemented in a programming language.\n",
    "\n",
    "D. A special kind of notation used by programmers"
   ]
  },
  {
   "cell_type": "markdown",
   "metadata": {},
   "source": [
    "Answer: B"
   ]
  },
  {
   "cell_type": "markdown",
   "metadata": {},
   "source": [
    "2. Source code is another name for"
   ]
  },
  {
   "cell_type": "markdown",
   "metadata": {},
   "source": [
    "A. the instructions in a program, written in a high-level language.\n",
    "\n",
    "B. the language that you are programming in (e.g., Python).\n",
    "\n",
    "C. the environment/tool in which you are programming.\n",
    "\n",
    "D. the number (or “code”) that you must input at the top of each program to tell the computer how to execute your program."
   ]
  },
  {
   "cell_type": "markdown",
   "metadata": {},
   "source": [
    "Answer: A"
   ]
  },
  {
   "cell_type": "markdown",
   "metadata": {},
   "source": [
    "3. What\tis\t the\t difference\t between\t a\t high-level\t programming\tlanguage\t and\t a\tlowlevel\tprogramming\tlanguage?"
   ]
  },
  {
   "cell_type": "markdown",
   "metadata": {},
   "source": [
    "A. It is high-level if you are standing and low-level if you are sitting.\n",
    "\n",
    "B. It is high-level if you are programming for a computer and low-level if you are programming for a phone or mobile device.\n",
    "\n",
    "C. It is high-level if the program must be processed before it can run, and lowlevel if the computer can execute it without additional processing.\n",
    "\n",
    "D. It is high-level if it easy to program in and is very short; it is low-level if it is really hard to program in and the programs are really long."
   ]
  },
  {
   "cell_type": "markdown",
   "metadata": {},
   "source": [
    "Answer: C"
   ]
  },
  {
   "cell_type": "markdown",
   "metadata": {},
   "source": [
    "4. Pick\tthe\tbest\treplacements\tfor\t1\tand\t2\tin\tthe\tfollowing\tsentence:\tWhen\tcomparing\tcompilers\tand\tinterpreters,\ta\tcompiler\tis\tlike\t1\twhile\tan\tinterpreter\tis\tlike\t2"
   ]
  },
  {
   "cell_type": "markdown",
   "metadata": {},
   "source": [
    "A. 1 = a process, 2 = a function\n",
    "\n",
    "B. 1 = translating an entire book, 2 = translating a line at a time\n",
    "\n",
    "C. 1 = software, 2 = hardware\n",
    "\n",
    "D. 1 = object code, 2 = byte code"
   ]
  },
  {
   "cell_type": "markdown",
   "metadata": {},
   "source": [
    "Answer: B"
   ]
  },
  {
   "cell_type": "markdown",
   "metadata": {},
   "source": [
    "5. The\tactivecode\tinterpreter\tallows\tyou\tto\t(select\tall\tthat\tapply):"
   ]
  },
  {
   "cell_type": "markdown",
   "metadata": {},
   "source": [
    "A. save programs and reload saved programs.\n",
    "\n",
    "B. type in Python source code.\n",
    "\n",
    "C. execute Python code right in the text itself within the web browser.\n",
    "\n",
    "D. receive a yes/no answer about whether your code is correct or not."
   ]
  },
  {
   "cell_type": "markdown",
   "metadata": {},
   "source": [
    "Answer: A, B, C"
   ]
  },
  {
   "cell_type": "markdown",
   "metadata": {},
   "source": [
    "6. Codelens\tallows\tyou\tto\t(select\tall\tthat\tapply):"
   ]
  },
  {
   "cell_type": "markdown",
   "metadata": {},
   "source": [
    "A. measure the speed of a program’s execution.\n",
    "\n",
    "B. control the step by step execution of a program.\n",
    "\n",
    "C. write and execute your own Python code.\n",
    "\n",
    "D. execute the Python code that is in codelens."
   ]
  },
  {
   "cell_type": "markdown",
   "metadata": {},
   "source": [
    "Answer: B, D"
   ]
  },
  {
   "cell_type": "markdown",
   "metadata": {},
   "source": [
    "7. A\tprogram\tis:"
   ]
  },
  {
   "cell_type": "markdown",
   "metadata": {},
   "source": [
    "A. a sequence of instructions that specifies how to perform a computation.\n",
    "\n",
    "B. something you follow along at a play or concert.\n",
    "\n",
    "C. a computation, even a symbolic computation.\n",
    "\n",
    "D. the same thing as an algorithm."
   ]
  },
  {
   "cell_type": "markdown",
   "metadata": {},
   "source": [
    "Answer: A"
   ]
  },
  {
   "cell_type": "markdown",
   "metadata": {},
   "source": [
    "8. The\tdifferences\tbetween\tnatural\tand\tformal\tlanguages\tinclude:"
   ]
  },
  {
   "cell_type": "markdown",
   "metadata": {},
   "source": [
    "A. natural languages can be parsed while formal languages cannot.\n",
    "\n",
    "B. ambiguity, redundancy, and literalness.\n",
    "\n",
    "C. there are no differences between natural and formal languages.\n",
    "\n",
    "D. tokens, structure, syntax, and semantics."
   ]
  },
  {
   "cell_type": "markdown",
   "metadata": {},
   "source": [
    "Answer: B"
   ]
  },
  {
   "cell_type": "markdown",
   "metadata": {},
   "source": [
    "9. True\tor\tFalse:\tReading\ta\tprogram\tis\tlike\treading\tother\tkinds\tof\ttext."
   ]
  },
  {
   "cell_type": "markdown",
   "metadata": {},
   "source": [
    "A. True\n",
    "\n",
    "B. False"
   ]
  },
  {
   "cell_type": "markdown",
   "metadata": {},
   "source": [
    "Answer: B"
   ]
  },
  {
   "cell_type": "markdown",
   "metadata": {},
   "source": [
    "10. The\tprint\tfunction:"
   ]
  },
  {
   "cell_type": "markdown",
   "metadata": {},
   "source": [
    "A. sends information to the printer to be printed on paper.\n",
    "\n",
    "B. displays a value on the screen.\n",
    "\n",
    "C. tells the computer to put the information in print, rather than cursive, format.\n",
    "\n",
    "D. tells the computer to speak the information."
   ]
  },
  {
   "cell_type": "markdown",
   "metadata": {},
   "source": [
    "Answer: B"
   ]
  },
  {
   "cell_type": "markdown",
   "metadata": {},
   "source": [
    "## Abstraction"
   ]
  },
  {
   "cell_type": "markdown",
   "metadata": {},
   "source": [
    "1. Values and Data Types"
   ]
  },
  {
   "cell_type": "markdown",
   "metadata": {},
   "source": [
    "* Value is\tone\tof\tthe\tfundamental\tthings. \n",
    "This may be:\n",
    "       * word\n",
    "       * number\n",
    "The computer will decide on how it will treat the word or number depending on the type of commands or operands that you input. \n",
    "During\t execution\t of\t a\t program,\t the\t Python\t interpreter\t creates\t an\t internal\t\n",
    "representation:\n",
    "    * Objects\n",
    "    * Values\n",
    "    \n",
    "The computer might interpret these as:\n",
    "        * Integer\n",
    "        * String\n",
    "        * float"
   ]
  },
  {
   "cell_type": "markdown",
   "metadata": {},
   "source": [
    "### 1.1 Operators and Operands"
   ]
  },
  {
   "cell_type": "markdown",
   "metadata": {},
   "source": [
    "Operators- are\tspecial\ttokens\tthat\trepresent\tcomputations.\n",
    "  * Addition       (+)\n",
    "  * Multiplication (*)\n",
    "  * Division       (/)\n",
    "      * using (//) will ignore the remainder\n",
    "  \n",
    "Operands - Values that the operator works on.\n",
    "\n",
    "The modulus\t operator-\t sometimes\t also\t called\t the remainder\t operator or integer\t\n",
    "remainder\t operator works\t on\t integers\t (and\t integer\t expressions)\t and\t yields\t the\t\n",
    "remainder\t when\t the\t first\t operand\t is\t divided\t by\t the\t second.\t \n",
    "In\t Python,\t the\t modulus operator\tis\ta\tpercent\tsign\t(%).\tThe\tsyntax\tis\tthe\tsame\tas\tfor\tother\toperators\n",
    "\n"
   ]
  },
  {
   "cell_type": "markdown",
   "metadata": {},
   "source": [
    "### 1.2 Function Calls"
   ]
  },
  {
   "cell_type": "markdown",
   "metadata": {},
   "source": [
    "The\tPython\tinterpreter\tcan\tcompute\tnew\tvalues\twith\tfunction\tcalls.\n",
    " * algebraic expressions "
   ]
  },
  {
   "cell_type": "markdown",
   "metadata": {},
   "source": [
    "#### 1.2.1 Function calls as part of complex expressions"
   ]
  },
  {
   "cell_type": "markdown",
   "metadata": {},
   "source": [
    "You\tcan\twrite\ta\tliteral\tlike\ta\tnumber,\tyou\tcan\talso\twrite\ta\tfunction\tinvocation\tthat\tproduces\ta\tnumber.\n",
    "\n",
    "For\texample:\n",
    "* 1\n",
    "* 2\n",
    "* print(square(3) + 2)\n",
    "* print(sub(square(3), square(1+1)))\n",
    "\n",
    "Note: The operator will solve first innermost parentheses, in order to determine what input to\n",
    "provide when calling the functions.\n",
    "\n",
    "Output will be:\n",
    "* (square(3), square(1+1)))\n",
    "* (sub(9, square(1+1)))\n",
    "* (sub(9, square(2)))\n",
    "* (sub(9, 4))\n",
    "\n",
    "=5"
   ]
  },
  {
   "cell_type": "markdown",
   "metadata": {},
   "source": [
    "#### 1.2.2 Functions are objects; parentheses invoke functions"
   ]
  },
  {
   "cell_type": "markdown",
   "metadata": {},
   "source": [
    "Functions\tare\tthemselves\tare just\tobjects.\n",
    "If\tyou\ttell\tPython\tto\tprint\tthe\tfunction\tobject,\trather\tthan\tprinting\tthe\tresults\tof\tinvoking\tthe\tfunction\tobject,\tyou’ll\tget\tone\tof\tthose\tnot-so-nice\tprinted\trepresentations.\n",
    "Just\ttyping\tthe\tname\tof\tthe\t function\trefers\tto\tthe\t function\tas\tan\tobject. \n",
    "Typing\tthe\tname\tof\tthe\tfunction\tfollowed\tby\tparentheses () invokes\tthe\tfunction."
   ]
  },
  {
   "cell_type": "markdown",
   "metadata": {},
   "source": [
    "## Application"
   ]
  },
  {
   "cell_type": "markdown",
   "metadata": {},
   "source": [
    "Distance\tBetween\tTwo\tPoints\ton\tEarth (27\tLines)\n",
    "\n",
    "The\tsurface\tof\tthe\tEarth\tis\tcurved,\tand\tthe\tdistance\tbetween\tdegrees\tof\tlongitude\n",
    "varies\t with\t latitude.\t As\t a\t result,\t finding\t the\t distance\t between\t two\t points\t on\t the surface\tof\tthe\tEarth\tis\tmore\tcomplicated\tthan\tsimply\tusing\tthe\tPythagorean\ttheorem.\n",
    "Let\t(t1,\tg1)\tand\t(t2,\tg2)\tbe\tthe\tlatitude\tand\tlongitude\tof\ttwo\tpoints\ton\tthe\tEarth’s\n",
    "surface.\tThe\tdistance\tbetween\tthese\tpoints,\tfollowing\tthe\tsurface\tof\tthe\tEarth,\tin\n",
    "kilometers\tis:\n",
    "\n",
    "distance\t = 6371.01 arccos(sin(t1) × sin(t2) + cos(t1) × cos(t2) × cos(g1 − g2))\n",
    "\n",
    "The\tvalue\t6371.01\tin\tthe\tprevious\tequation\twasn’t\tselected\tat\trandom.\tIt\tis\tthe\n",
    "average\tradius\tof\tthe\tEarth\tin\tkilometers"
   ]
  },
  {
   "cell_type": "code",
   "execution_count": 1,
   "metadata": {},
   "outputs": [
    {
     "name": "stdout",
     "output_type": "stream",
     "text": [
      "Enter lattitude of point1: 1\n",
      "Enter longitude of point1: 1\n",
      "Enter lattitude of point2: 1\n",
      "Enter longitude of point2: 1\n",
      "Distance between two points = 6258.7766 kms\n"
     ]
    }
   ],
   "source": [
    "    import math\n",
    "    #Function to calculate distnce\n",
    "    def calcDistance(lat1,long1,lat2,long2):\n",
    "     return  6371.01*math.acos(math.sin(lat1) *math.sin(lat2) +math.cos(lat1)*math.cos(lat2)*math.cos(long1-long2))\n",
    "    #Function to convert degree to radian\n",
    "    def convertRadians(val):\n",
    "     return val*0.01745329252\n",
    "    #Main function\n",
    "    def main():\n",
    "    #Prompt for latitude ang longitude of point1\n",
    "        lattitude1=(float(input(\"Enter lattitude of point1: \")))\n",
    "        longitude1=(float(input(\"Enter longitude of point1: \")))\n",
    "    #Prompt for latitude ang longitude of point2\n",
    "        lattitude2=(float(input(\"Enter lattitude of point2: \")))\n",
    "        longitude2=(float(input(\"Enter longitude of point2: \")))\n",
    "    #Get radian values\n",
    "        lattitude1=convertRadians(lattitude1)\n",
    "        longitude1=convertRadians(longitude1)\n",
    "        lattitude2=convertRadians(lattitude2)\n",
    "        longittude2=convertRadians(longitude2)\n",
    "    #Display result\n",
    "        print('Distance between two points = %.4f kms'%calcDistance(lattitude1,longitude1,lattitude2,longitude2))\n",
    "    #program starts here\n",
    "    if __name__==\"__main__\":\n",
    "     main()"
   ]
  },
  {
   "cell_type": "code",
   "execution_count": null,
   "metadata": {},
   "outputs": [],
   "source": []
  },
  {
   "cell_type": "code",
   "execution_count": null,
   "metadata": {},
   "outputs": [],
   "source": []
  }
 ],
 "metadata": {
  "kernelspec": {
   "display_name": "Python 3",
   "language": "python",
   "name": "python3"
  },
  "language_info": {
   "codemirror_mode": {
    "name": "ipython",
    "version": 3
   },
   "file_extension": ".py",
   "mimetype": "text/x-python",
   "name": "python",
   "nbconvert_exporter": "python",
   "pygments_lexer": "ipython3",
   "version": "3.6.11"
  }
 },
 "nbformat": 4,
 "nbformat_minor": 2
}
